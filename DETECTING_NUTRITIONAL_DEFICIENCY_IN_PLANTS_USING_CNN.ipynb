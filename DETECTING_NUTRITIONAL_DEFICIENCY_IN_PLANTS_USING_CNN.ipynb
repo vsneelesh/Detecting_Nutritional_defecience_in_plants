{
  "cells": [
    {
      "cell_type": "markdown",
      "metadata": {
        "id": "view-in-github",
        "colab_type": "text"
      },
      "source": [
        "<a href=\"https://colab.research.google.com/github/vsneelesh/Detecting_Nutritional_defecience_in_plants/blob/main/DETECTING_NUTRITIONAL_DEFICIENCY_IN_PLANTS_USING_CNN.ipynb\" target=\"_parent\"><img src=\"https://colab.research.google.com/assets/colab-badge.svg\" alt=\"Open In Colab\"/></a>"
      ]
    },
    {
      "cell_type": "code",
      "execution_count": null,
      "id": "e75cb452",
      "metadata": {
        "id": "e75cb452"
      },
      "outputs": [],
      "source": [
        "import numpy as np\n",
        "import pandas as pd\n",
        "import matplotlib.pyplot as plt\n",
        "from matplotlib.image import imread\n",
        "import cv2\n",
        "import random\n",
        "import os\n",
        "from os import listdir\n",
        "from PIL import Image\n",
        "from sklearn.preprocessing import label_binarize,  LabelBinarizer\n",
        "from keras.preprocessing import image\n",
        "from tensorflow.keras.utils import img_to_array,array_to_img\n",
        "from tensorflow.keras.optimizers import Adam\n",
        "from keras.models import Sequential\n",
        "from keras.layers import Conv2D, MaxPooling2D\n",
        "from keras.layers import Activation, Flatten, Dropout, Dense\n",
        "from sklearn.model_selection import train_test_split\n",
        "from keras.models import model_from_json\n",
        "from tensorflow.keras.utils import to_categorical"
      ]
    },
    {
      "cell_type": "code",
      "execution_count": null,
      "id": "46a98e8a",
      "metadata": {
        "colab": {
          "base_uri": "https://localhost:8080/",
          "height": 530
        },
        "id": "46a98e8a",
        "outputId": "fab5e97e-f201-4f5e-e81d-9e7e36beaceb"
      },
      "outputs": [
        {
          "output_type": "error",
          "ename": "FileNotFoundError",
          "evalue": "[Errno 2] No such file or directory: 'archive (8)/Plant_images/Potato___Early_blight'",
          "traceback": [
            "\u001b[0;31m---------------------------------------------------------------------------\u001b[0m",
            "\u001b[0;31mFileNotFoundError\u001b[0m                         Traceback (most recent call last)",
            "\u001b[0;32m<ipython-input-2-faf809d6192c>\u001b[0m in \u001b[0;36m<cell line: 5>\u001b[0;34m()\u001b[0m\n\u001b[1;32m      6\u001b[0m     \u001b[0mplt\u001b[0m\u001b[0;34m.\u001b[0m\u001b[0msubplot\u001b[0m\u001b[0;34m(\u001b[0m\u001b[0;36m4\u001b[0m\u001b[0;34m,\u001b[0m\u001b[0;36m4\u001b[0m\u001b[0;34m,\u001b[0m\u001b[0mi\u001b[0m\u001b[0;34m)\u001b[0m\u001b[0;34m\u001b[0m\u001b[0;34m\u001b[0m\u001b[0m\n\u001b[1;32m      7\u001b[0m     \u001b[0mplt\u001b[0m\u001b[0;34m.\u001b[0m\u001b[0mtight_layout\u001b[0m\u001b[0;34m(\u001b[0m\u001b[0;34m)\u001b[0m\u001b[0;34m\u001b[0m\u001b[0;34m\u001b[0m\u001b[0m\n\u001b[0;32m----> 8\u001b[0;31m     \u001b[0mrand_img\u001b[0m \u001b[0;34m=\u001b[0m \u001b[0mimread\u001b[0m\u001b[0;34m(\u001b[0m\u001b[0mpath\u001b[0m \u001b[0;34m+\u001b[0m\u001b[0;34m'/'\u001b[0m\u001b[0;34m+\u001b[0m \u001b[0mrandom\u001b[0m\u001b[0;34m.\u001b[0m\u001b[0mchoice\u001b[0m\u001b[0;34m(\u001b[0m\u001b[0msorted\u001b[0m\u001b[0;34m(\u001b[0m\u001b[0mos\u001b[0m\u001b[0;34m.\u001b[0m\u001b[0mlistdir\u001b[0m\u001b[0;34m(\u001b[0m\u001b[0mpath\u001b[0m\u001b[0;34m)\u001b[0m\u001b[0;34m)\u001b[0m\u001b[0;34m)\u001b[0m\u001b[0;34m)\u001b[0m\u001b[0;34m\u001b[0m\u001b[0;34m\u001b[0m\u001b[0m\n\u001b[0m\u001b[1;32m      9\u001b[0m     \u001b[0mplt\u001b[0m\u001b[0;34m.\u001b[0m\u001b[0mimshow\u001b[0m\u001b[0;34m(\u001b[0m\u001b[0mrand_img\u001b[0m\u001b[0;34m)\u001b[0m\u001b[0;34m\u001b[0m\u001b[0;34m\u001b[0m\u001b[0m\n\u001b[1;32m     10\u001b[0m     \u001b[0mplt\u001b[0m\u001b[0;34m.\u001b[0m\u001b[0mxlabel\u001b[0m\u001b[0;34m(\u001b[0m\u001b[0mrand_img\u001b[0m\u001b[0;34m.\u001b[0m\u001b[0mshape\u001b[0m\u001b[0;34m[\u001b[0m\u001b[0;36m1\u001b[0m\u001b[0;34m]\u001b[0m\u001b[0;34m,\u001b[0m \u001b[0mfontsize\u001b[0m \u001b[0;34m=\u001b[0m \u001b[0;36m10\u001b[0m\u001b[0;34m)\u001b[0m\u001b[0;31m#width of image\u001b[0m\u001b[0;34m\u001b[0m\u001b[0;34m\u001b[0m\u001b[0m\n",
            "\u001b[0;31mFileNotFoundError\u001b[0m: [Errno 2] No such file or directory: 'archive (8)/Plant_images/Potato___Early_blight'"
          ]
        },
        {
          "output_type": "display_data",
          "data": {
            "text/plain": [
              "<Figure size 1200x1200 with 1 Axes>"
            ],
            "image/png": "[encoded data removed]"
          },
          "metadata": {}
        }
      ],
      "source": [
        "# Plotting 12 images to check dataset\n",
        "# Now we will observe some of the images that are their in our dataset. We will plot 12 images here using the matplotlib library.\n",
        "plt.figure(figsize=(12,12))\n",
        "path = \"archive (8)/Plant_images/Potato___Early_blight\"\n",
        "for i in range(1,17):\n",
        "    plt.subplot(4,4,i)\n",
        "    plt.tight_layout()\n",
        "    rand_img = imread(path +'/'+ random.choice(sorted(os.listdir(path))))\n",
        "    plt.imshow(rand_img)\n",
        "    plt.xlabel(rand_img.shape[1], fontsize = 10)#width of image\n",
        "    plt.ylabel(rand_img.shape[0], fontsize = 10)#height of image"
      ]
    },
    {
      "cell_type": "code",
      "execution_count": null,
      "id": "6cd40ad6",
      "metadata": {
        "id": "6cd40ad6"
      },
      "outputs": [],
      "source": [
        "# Converting Images to array\n",
        "def convert_image_to_array(image_dir):\n",
        "    try:\n",
        "        image = cv2.imread(image_dir)\n",
        "        if image is not None :\n",
        "            image = cv2.resize(image, (256,256))\n",
        "            #image = cv2.cvtColor(image, cv2.COLOR_BGR2GRAY)\n",
        "            return img_to_array(image)\n",
        "        else :\n",
        "            return np.array([])\n",
        "    except Exception as e:\n",
        "        print(f\"Error : {e}\")\n",
        "        return None"
      ]
    },
    {
      "cell_type": "code",
      "execution_count": null,
      "id": "af71bc41",
      "metadata": {
        "id": "af71bc41"
      },
      "outputs": [],
      "source": [
        "dir = \"archive (8)/Plant_images\"\n",
        "root_dir = listdir(dir)\n",
        "image_list, label_list = [], []\n",
        "all_labels = ['Corn_(maize)__Common_rust_', 'Potato__Early_blight', 'Tomato__Bacterial_spot']\n",
        "binary_labels = [0,1,2]\n",
        "temp = -1\n",
        "\n",
        "# Reading and converting image to numpy array\n",
        "# Now we will convert all the images into numpy array.\n",
        "\n",
        "for directory in root_dir:\n",
        "  plant_image_list = listdir(f\"{dir}/{directory}\")\n",
        "  temp += 1\n",
        "  for files in plant_image_list:\n",
        "    image_path = f\"{dir}/{directory}/{files}\"\n",
        "    image_list.append(convert_image_to_array(image_path))\n",
        "    label_list.append(binary_labels[temp])"
      ]
    },
    {
      "cell_type": "code",
      "execution_count": null,
      "id": "36c4a2a1",
      "metadata": {
        "id": "36c4a2a1"
      },
      "outputs": [],
      "source": [
        "# Visualize the number of classes count\n",
        "label_counts = pd.DataFrame(label_list).value_counts()\n",
        "label_counts.head()\n",
        "\n",
        "# it is a balanced dataset as you can see"
      ]
    },
    {
      "cell_type": "code",
      "execution_count": null,
      "id": "cc6df7e0",
      "metadata": {
        "id": "cc6df7e0"
      },
      "outputs": [],
      "source": [
        "# Next we will observe the shape of the image.\n",
        "image_list[0].shape"
      ]
    },
    {
      "cell_type": "code",
      "execution_count": null,
      "id": "5ba4a268",
      "metadata": {
        "id": "5ba4a268"
      },
      "outputs": [],
      "source": [
        "# Checking the total number of the images which is the length of the labels list.\n",
        "label_list = np.array(label_list)\n",
        "label_list.shape"
      ]
    },
    {
      "cell_type": "code",
      "execution_count": null,
      "id": "e05e0647",
      "metadata": {
        "id": "e05e0647"
      },
      "outputs": [],
      "source": [
        "x_train, x_test, y_train, y_test = train_test_split(image_list, label_list, test_size=0.2, random_state = 10)"
      ]
    },
    {
      "cell_type": "code",
      "execution_count": null,
      "id": "2f8f02ea",
      "metadata": {
        "id": "2f8f02ea"
      },
      "outputs": [],
      "source": [
        "# Now we will normalize the dataset of our images. As pixel values ranges from 0 to 255 so we will divide each image pixel with 255 to normalize the dataset.\n",
        "x_train = np.array(x_train, dtype=np.float16) / 225.0\n",
        "x_test = np.array(x_test, dtype=np.float16) / 225.0\n",
        "x_train = x_train.reshape( -1, 256,256,3)\n",
        "x_test = x_test.reshape( -1, 256,256,3)"
      ]
    },
    {
      "cell_type": "code",
      "execution_count": null,
      "id": "dfb1c35c",
      "metadata": {
        "id": "dfb1c35c"
      },
      "outputs": [],
      "source": [
        "y_train = to_categorical(y_train)\n",
        "y_test = to_categorical(y_test)"
      ]
    },
    {
      "cell_type": "markdown",
      "id": "dc3cf764",
      "metadata": {
        "id": "dc3cf764"
      },
      "source": [
        "# MODEL 1"
      ]
    },
    {
      "cell_type": "raw",
      "id": "68c8c83b",
      "metadata": {
        "id": "68c8c83b"
      },
      "source": [
        "ACTIVATION: RELU, SOFTMAX\n",
        "OPTIMIZER: ADAM\n",
        "LEARNING RATE: 0.0001"
      ]
    },
    {
      "cell_type": "code",
      "execution_count": null,
      "id": "b9f06fc6",
      "metadata": {
        "id": "b9f06fc6"
      },
      "outputs": [],
      "source": [
        "model = Sequential()\n",
        "model.add(Conv2D(32, (3, 3), padding=\"same\",input_shape=(256,256,3), activation=\"relu\"))\n",
        "model.add(MaxPooling2D(pool_size=(3, 3)))\n",
        "model.add(Conv2D(16, (3, 3), padding=\"same\", activation=\"relu\"))\n",
        "model.add(MaxPooling2D(pool_size=(2, 2)))\n",
        "model.add(Flatten())\n",
        "model.add(Dense(8, activation=\"relu\"))\n",
        "model.add(Dense(3, activation=\"softmax\"))\n",
        "model.summary()"
      ]
    },
    {
      "cell_type": "code",
      "execution_count": null,
      "id": "cc678dc9",
      "metadata": {
        "id": "cc678dc9"
      },
      "outputs": [],
      "source": [
        "model.compile(loss = 'categorical_crossentropy', optimizer = Adam(0.001),metrics=['accuracy'])"
      ]
    },
    {
      "cell_type": "code",
      "execution_count": null,
      "id": "4232b258",
      "metadata": {
        "id": "4232b258"
      },
      "outputs": [],
      "source": [
        "# Next we will split the dataset into validation and training data.\n",
        "# Splitting the training data set into training and validation data sets\n",
        "x_train, x_val, y_train, y_val = train_test_split(x_train, y_train, test_size = 0.2)"
      ]
    },
    {
      "cell_type": "code",
      "execution_count": null,
      "id": "2bddca8a",
      "metadata": {
        "id": "2bddca8a"
      },
      "outputs": [],
      "source": [
        "# Training the model\n",
        "epochs = 40\n",
        "batch_size = 128\n",
        "history = model.fit(x_train, y_train, batch_size = batch_size, epochs = epochs,\n",
        "                    validation_data = (x_val, y_val))"
      ]
    },
    {
      "cell_type": "code",
      "execution_count": null,
      "id": "dc8e002f",
      "metadata": {
        "id": "dc8e002f"
      },
      "outputs": [],
      "source": [
        "# Plot the training history\n",
        "plt.figure(figsize=(12, 5))\n",
        "plt.plot(history.history['accuracy'], color='r')\n",
        "plt.plot(history.history['val_accuracy'], color='b')\n",
        "plt.title('Model Accuracy')\n",
        "plt.ylabel('Accuracy')\n",
        "plt.xlabel('Epochs')\n",
        "plt.legend(['train', 'val'])\n",
        "\n",
        "plt.show()"
      ]
    },
    {
      "cell_type": "code",
      "execution_count": null,
      "id": "fbc36882",
      "metadata": {
        "id": "fbc36882"
      },
      "outputs": [],
      "source": [
        "print(\"[INFO] Calculating model accuracy\")\n",
        "scores = model.evaluate(x_test, y_test)\n",
        "acc1 = scores[1]*100\n",
        "print(f\"Test Accuracy: {scores[1]*100}\")"
      ]
    },
    {
      "cell_type": "code",
      "execution_count": null,
      "id": "cb45d9fe",
      "metadata": {
        "id": "cb45d9fe"
      },
      "outputs": [],
      "source": [
        "y_pred = model.predict(x_test)"
      ]
    },
    {
      "cell_type": "code",
      "execution_count": null,
      "id": "22770818",
      "metadata": {
        "id": "22770818"
      },
      "outputs": [],
      "source": [
        "# Plotting image to compare\n",
        "img = array_to_img(x_test[12])\n",
        "img"
      ]
    },
    {
      "cell_type": "code",
      "execution_count": null,
      "id": "45056e08",
      "metadata": {
        "id": "45056e08"
      },
      "outputs": [],
      "source": [
        "# Finding max value from predition list and comaparing original value vs predicted\n",
        "print(\"Originally : \",all_labels[np.argmax(y_test[10])])\n",
        "print(\"Predicted : \",all_labels[np.argmax(y_pred[10])])"
      ]
    },
    {
      "cell_type": "markdown",
      "id": "f778a1b3",
      "metadata": {
        "id": "f778a1b3"
      },
      "source": [
        "# MODEL 2"
      ]
    },
    {
      "cell_type": "raw",
      "id": "d5aea531",
      "metadata": {
        "id": "d5aea531"
      },
      "source": [
        "ACTIVATION: RELU, SOFTMAX\n",
        "OPTIMIZER: SGD\n",
        "LEARNING RATE: 0.001"
      ]
    },
    {
      "cell_type": "code",
      "execution_count": null,
      "id": "d8d19790",
      "metadata": {
        "id": "d8d19790"
      },
      "outputs": [],
      "source": [
        "model = Sequential()\n",
        "model.add(Conv2D(32, (3, 3), padding=\"same\",input_shape=(256,256,3), activation=\"relu\"))\n",
        "model.add(MaxPooling2D(pool_size=(3, 3)))\n",
        "model.add(Conv2D(16, (3, 3), padding=\"same\", activation=\"relu\"))\n",
        "model.add(MaxPooling2D(pool_size=(2, 2)))\n",
        "model.add(Flatten())\n",
        "model.add(Dense(8, activation=\"relu\"))\n",
        "model.add(Dense(3, activation=\"softmax\"))\n",
        "model.summary()"
      ]
    },
    {
      "cell_type": "code",
      "execution_count": null,
      "id": "5d2e057b",
      "metadata": {
        "id": "5d2e057b"
      },
      "outputs": [],
      "source": [
        "from tensorflow.keras.optimizers import SGD\n",
        "model.compile(loss = 'categorical_crossentropy', optimizer = SGD(learning_rate = 0.001),metrics=['accuracy'])"
      ]
    },
    {
      "cell_type": "code",
      "execution_count": null,
      "id": "dffb224f",
      "metadata": {
        "id": "dffb224f"
      },
      "outputs": [],
      "source": [
        "# Next we will split the dataset into validation and training data.\n",
        "# Splitting the training data set into training and validation data sets\n",
        "x_train, x_val, y_train, y_val = train_test_split(x_train, y_train, test_size = 0.2)"
      ]
    },
    {
      "cell_type": "code",
      "execution_count": null,
      "id": "eadf28c1",
      "metadata": {
        "id": "eadf28c1"
      },
      "outputs": [],
      "source": [
        "# Training the model\n",
        "epochs = 40\n",
        "batch_size = 128\n",
        "history = model.fit(x_train, y_train, batch_size = batch_size, epochs = epochs,\n",
        "                    validation_data = (x_val, y_val))"
      ]
    },
    {
      "cell_type": "code",
      "execution_count": null,
      "id": "317b2aaf",
      "metadata": {
        "id": "317b2aaf"
      },
      "outputs": [],
      "source": [
        "# Plot the training history\n",
        "plt.figure(figsize=(12, 5))\n",
        "plt.plot(history.history['accuracy'], color='r')\n",
        "plt.plot(history.history['val_accuracy'], color='b')\n",
        "plt.title('Model Accuracy')\n",
        "plt.ylabel('Accuracy')\n",
        "plt.xlabel('Epochs')\n",
        "plt.legend(['train', 'val'])\n",
        "\n",
        "plt.show()"
      ]
    },
    {
      "cell_type": "code",
      "execution_count": null,
      "id": "37b77465",
      "metadata": {
        "id": "37b77465"
      },
      "outputs": [],
      "source": [
        "print(\"[INFO] Calculating model accuracy\")\n",
        "scores = model.evaluate(x_test, y_test)\n",
        "acc2 = scores[1]*100\n",
        "print(f\"Test Accuracy: {scores[1]*100}\")"
      ]
    },
    {
      "cell_type": "code",
      "execution_count": null,
      "id": "02cc9b17",
      "metadata": {
        "id": "02cc9b17"
      },
      "outputs": [],
      "source": [
        "y_pred = model.predict(x_test)"
      ]
    },
    {
      "cell_type": "code",
      "execution_count": null,
      "id": "ccbf44e8",
      "metadata": {
        "id": "ccbf44e8"
      },
      "outputs": [],
      "source": [
        "# Plotting image to compare\n",
        "img = array_to_img(x_test[10])\n",
        "img"
      ]
    },
    {
      "cell_type": "code",
      "execution_count": null,
      "id": "7b7c1dea",
      "metadata": {
        "id": "7b7c1dea"
      },
      "outputs": [],
      "source": [
        "# Finding max value from predition list and comaparing original value vs predicted\n",
        "print(\"Originally : \",all_labels[np.argmax(y_test[10])])\n",
        "print(\"Predicted : \",all_labels[np.argmax(y_pred[10])])"
      ]
    },
    {
      "cell_type": "markdown",
      "id": "6cedeb76",
      "metadata": {
        "id": "6cedeb76"
      },
      "source": [
        "# MODEL 3"
      ]
    },
    {
      "cell_type": "raw",
      "id": "70e8535a",
      "metadata": {
        "id": "70e8535a"
      },
      "source": [
        "ACTIVATION: RELU, GELU, SOFTMAX\n",
        "OPTIMIZER: ADAM\n",
        "LEARNING RATE: 0.0001"
      ]
    },
    {
      "cell_type": "code",
      "execution_count": null,
      "id": "ca1c1355",
      "metadata": {
        "id": "ca1c1355"
      },
      "outputs": [],
      "source": [
        "model = Sequential()\n",
        "model.add(Conv2D(32, (3, 3), padding=\"same\",input_shape=(256,256,3), activation=\"relu\"))\n",
        "model.add(MaxPooling2D(pool_size=(3, 3)))\n",
        "model.add(Conv2D(16, (3, 3), padding=\"same\", activation=\"relu\"))\n",
        "model.add(MaxPooling2D(pool_size=(2, 2)))\n",
        "model.add(Flatten())\n",
        "model.add(Dense(8, activation=\"gelu\"))\n",
        "model.add(Dense(3, activation=\"softmax\"))\n",
        "model.summary()"
      ]
    },
    {
      "cell_type": "code",
      "execution_count": null,
      "id": "627f5ff2",
      "metadata": {
        "id": "627f5ff2"
      },
      "outputs": [],
      "source": [
        "model.compile(loss = 'categorical_crossentropy', optimizer = Adam(0.001),metrics=['accuracy'])"
      ]
    },
    {
      "cell_type": "code",
      "execution_count": null,
      "id": "a80dc308",
      "metadata": {
        "id": "a80dc308"
      },
      "outputs": [],
      "source": [
        "# Next we will split the dataset into validation and training data.\n",
        "# Splitting the training data set into training and validation data sets\n",
        "x_train, x_val, y_train, y_val = train_test_split(x_train, y_train, test_size = 0.2)"
      ]
    },
    {
      "cell_type": "code",
      "execution_count": null,
      "id": "64435f73",
      "metadata": {
        "id": "64435f73"
      },
      "outputs": [],
      "source": [
        "# Training the model\n",
        "epochs = 10\n",
        "batch_size = 128\n",
        "history = model.fit(x_train, y_train, batch_size = batch_size, epochs = epochs,\n",
        "                    validation_data = (x_val, y_val))"
      ]
    },
    {
      "cell_type": "code",
      "execution_count": null,
      "id": "d3c0bafd",
      "metadata": {
        "id": "d3c0bafd"
      },
      "outputs": [],
      "source": [
        "# Plot the training history\n",
        "plt.figure(figsize=(12, 5))\n",
        "plt.plot(history.history['accuracy'], color='r')\n",
        "plt.plot(history.history['val_accuracy'], color='b')\n",
        "plt.title('Model Accuracy')\n",
        "plt.ylabel('Accuracy')\n",
        "plt.xlabel('Epochs')\n",
        "plt.legend(['train', 'val'])\n",
        "\n",
        "plt.show()"
      ]
    },
    {
      "cell_type": "code",
      "execution_count": null,
      "id": "27e543f3",
      "metadata": {
        "id": "27e543f3"
      },
      "outputs": [],
      "source": [
        "print(\"[INFO] Calculating model accuracy\")\n",
        "scores = model.evaluate(x_test, y_test)\n",
        "acc3 = scores[1]*100\n",
        "print(f\"Test Accuracy: {scores[1]*100}\")"
      ]
    },
    {
      "cell_type": "code",
      "execution_count": null,
      "id": "cc0c3d88",
      "metadata": {
        "id": "cc0c3d88"
      },
      "outputs": [],
      "source": [
        "y_pred = model.predict(x_test)"
      ]
    },
    {
      "cell_type": "code",
      "execution_count": null,
      "id": "9e064a53",
      "metadata": {
        "id": "9e064a53"
      },
      "outputs": [],
      "source": [
        "# Plotting image to compare\n",
        "img = array_to_img(x_test[10])\n",
        "img"
      ]
    },
    {
      "cell_type": "code",
      "execution_count": null,
      "id": "37d79572",
      "metadata": {
        "id": "37d79572"
      },
      "outputs": [],
      "source": [
        "# Finding max value from predition list and comaparing original value vs predicted\n",
        "print(\"Originally : \",all_labels[np.argmax(y_test[10])])\n",
        "print(\"Predicted : \",all_labels[np.argmax(y_pred[10])])"
      ]
    },
    {
      "cell_type": "markdown",
      "id": "cb468256",
      "metadata": {
        "id": "cb468256"
      },
      "source": [
        "# MODEL 4"
      ]
    },
    {
      "cell_type": "raw",
      "id": "55a9015e",
      "metadata": {
        "id": "55a9015e"
      },
      "source": [
        "ACTIVATION: RELU, GELU, SOFTMAX\n",
        "OPTIMIZER: ADAGRAD\n",
        "LEARNING RATE: 0.001"
      ]
    },
    {
      "cell_type": "code",
      "execution_count": null,
      "id": "6f016614",
      "metadata": {
        "id": "6f016614"
      },
      "outputs": [],
      "source": [
        "model = Sequential()\n",
        "model.add(Conv2D(32, (3, 3), padding=\"same\",input_shape=(256,256,3), activation=\"relu\"))\n",
        "model.add(MaxPooling2D(pool_size=(3, 3)))\n",
        "model.add(Conv2D(16, (3, 3), padding=\"same\", activation=\"relu\"))\n",
        "model.add(MaxPooling2D(pool_size=(2, 2)))\n",
        "model.add(Flatten())\n",
        "model.add(Dense(8, activation=\"gelu\"))\n",
        "model.add(Dense(3, activation=\"softmax\"))\n",
        "model.summary()"
      ]
    },
    {
      "cell_type": "code",
      "execution_count": null,
      "id": "3f811cf1",
      "metadata": {
        "id": "3f811cf1"
      },
      "outputs": [],
      "source": [
        "from tensorflow.keras.optimizers import Adagrad\n",
        "model.compile(loss = 'categorical_crossentropy', optimizer = Adagrad(0.001),metrics=['accuracy'])"
      ]
    },
    {
      "cell_type": "code",
      "execution_count": null,
      "id": "315614fe",
      "metadata": {
        "id": "315614fe"
      },
      "outputs": [],
      "source": [
        "# Next we will split the dataset into validation and training data.\n",
        "# Splitting the training data set into training and validation data sets\n",
        "x_train, x_val, y_train, y_val = train_test_split(x_train, y_train, test_size = 0.2)"
      ]
    },
    {
      "cell_type": "code",
      "execution_count": null,
      "id": "5b67ce59",
      "metadata": {
        "id": "5b67ce59"
      },
      "outputs": [],
      "source": [
        "# Training the model\n",
        "epochs = 30\n",
        "batch_size = 128\n",
        "history = model.fit(x_train, y_train, batch_size = batch_size, epochs = epochs,\n",
        "                    validation_data = (x_val, y_val))"
      ]
    },
    {
      "cell_type": "code",
      "execution_count": null,
      "id": "80cd3530",
      "metadata": {
        "id": "80cd3530"
      },
      "outputs": [],
      "source": [
        "# Plot the training history\n",
        "plt.figure(figsize=(12, 5))\n",
        "plt.plot(history.history['accuracy'], color='r')\n",
        "plt.plot(history.history['val_accuracy'], color='b')\n",
        "plt.title('Model Accuracy')\n",
        "plt.ylabel('Accuracy')\n",
        "plt.xlabel('Epochs')\n",
        "plt.legend(['train', 'val'])\n",
        "\n",
        "plt.show()"
      ]
    },
    {
      "cell_type": "code",
      "execution_count": null,
      "id": "3333cb50",
      "metadata": {
        "id": "3333cb50"
      },
      "outputs": [],
      "source": [
        "print(\"[INFO] Calculating model accuracy\")\n",
        "scores = model.evaluate(x_test, y_test)\n",
        "acc4 = scores[1]*100\n",
        "print(f\"Test Accuracy: {scores[1]*100}\")"
      ]
    },
    {
      "cell_type": "code",
      "execution_count": null,
      "id": "b6b98c81",
      "metadata": {
        "id": "b6b98c81"
      },
      "outputs": [],
      "source": [
        "y_pred = model.predict(x_test)"
      ]
    },
    {
      "cell_type": "code",
      "execution_count": null,
      "id": "9923faf6",
      "metadata": {
        "id": "9923faf6"
      },
      "outputs": [],
      "source": [
        "# Plotting image to compare\n",
        "img = array_to_img(x_test[10])\n",
        "img"
      ]
    },
    {
      "cell_type": "code",
      "execution_count": null,
      "id": "9ba4c89f",
      "metadata": {
        "id": "9ba4c89f"
      },
      "outputs": [],
      "source": [
        "# Finding max value from predition list and comaparing original value vs predicted\n",
        "print(\"Originally : \",all_labels[np.argmax(y_test[10])])\n",
        "print(\"Predicted : \",all_labels[np.argmax(y_pred[10])])"
      ]
    },
    {
      "cell_type": "markdown",
      "id": "c280d034",
      "metadata": {
        "id": "c280d034"
      },
      "source": [
        "# MODEL 5"
      ]
    },
    {
      "cell_type": "raw",
      "id": "94c315b9",
      "metadata": {
        "id": "94c315b9"
      },
      "source": [
        "ACTIVATION: RELU, GELU, SOFTMAX\n",
        "OPTIMIZER: RMSprop\n",
        "LEARNING RATE: 0.001"
      ]
    },
    {
      "cell_type": "code",
      "execution_count": null,
      "id": "28f492f9",
      "metadata": {
        "id": "28f492f9"
      },
      "outputs": [],
      "source": [
        "model = Sequential()\n",
        "model.add(Conv2D(32, (3, 3), padding=\"same\",input_shape=(256,256,3), activation=\"relu\"))\n",
        "model.add(MaxPooling2D(pool_size=(3, 3)))\n",
        "model.add(Conv2D(16, (3, 3), padding=\"same\", activation=\"relu\"))\n",
        "model.add(MaxPooling2D(pool_size=(2, 2)))\n",
        "model.add(Flatten())\n",
        "model.add(Dense(8, activation=\"gelu\"))\n",
        "model.add(Dense(8, activation=\"relu\"))\n",
        "model.add(Dense(3, activation=\"softmax\"))\n",
        "model.summary()"
      ]
    },
    {
      "cell_type": "code",
      "execution_count": null,
      "id": "4156db44",
      "metadata": {
        "id": "4156db44"
      },
      "outputs": [],
      "source": [
        "from tensorflow.keras.optimizers import RMSprop\n",
        "model.compile(loss = 'categorical_crossentropy', optimizer = RMSprop(0.001),metrics=['accuracy'])"
      ]
    },
    {
      "cell_type": "code",
      "execution_count": null,
      "id": "815dd11f",
      "metadata": {
        "id": "815dd11f"
      },
      "outputs": [],
      "source": [
        "# Training the model\n",
        "epochs = 20\n",
        "batch_size = 128\n",
        "history = model.fit(x_train, y_train, batch_size = batch_size, epochs = epochs,\n",
        "                    validation_data = (x_val, y_val))"
      ]
    },
    {
      "cell_type": "code",
      "execution_count": null,
      "id": "b9394646",
      "metadata": {
        "id": "b9394646"
      },
      "outputs": [],
      "source": [
        "# Plot the training history\n",
        "plt.figure(figsize=(12, 5))\n",
        "plt.plot(history.history['accuracy'], color='r')\n",
        "plt.plot(history.history['val_accuracy'], color='b')\n",
        "plt.title('Model Accuracy')\n",
        "plt.ylabel('Accuracy')\n",
        "plt.xlabel('Epochs')\n",
        "plt.legend(['train', 'val'])\n",
        "\n",
        "plt.show()"
      ]
    },
    {
      "cell_type": "code",
      "execution_count": null,
      "id": "78890b0c",
      "metadata": {
        "id": "78890b0c"
      },
      "outputs": [],
      "source": [
        "print(\"[INFO] Calculating model accuracy\")\n",
        "scores = model.evaluate(x_test, y_test)\n",
        "acc5 = scores[1]*100\n",
        "print(f\"Test Accuracy: {scores[1]*100}\")"
      ]
    },
    {
      "cell_type": "code",
      "execution_count": null,
      "id": "bdf863a1",
      "metadata": {
        "id": "bdf863a1"
      },
      "outputs": [],
      "source": [
        "y_pred = model.predict(x_test)"
      ]
    },
    {
      "cell_type": "code",
      "execution_count": null,
      "id": "812eacaa",
      "metadata": {
        "id": "812eacaa"
      },
      "outputs": [],
      "source": [
        "# Plotting image to compare\n",
        "img = array_to_img(x_test[10])\n",
        "img"
      ]
    },
    {
      "cell_type": "code",
      "execution_count": null,
      "id": "194b3dba",
      "metadata": {
        "id": "194b3dba"
      },
      "outputs": [],
      "source": [
        "# Finding max value from predition list and comaparing original value vs predicted\n",
        "print(\"Originally : \",all_labels[np.argmax(y_test[10])])\n",
        "print(\"Predicted : \",all_labels[np.argmax(y_pred[10])])"
      ]
    },
    {
      "cell_type": "markdown",
      "id": "5b525f8a",
      "metadata": {
        "id": "5b525f8a"
      },
      "source": [
        "# RESULT ANALYSIS"
      ]
    },
    {
      "cell_type": "code",
      "execution_count": null,
      "id": "6ccc8d03",
      "metadata": {
        "id": "6ccc8d03"
      },
      "outputs": [],
      "source": [
        "import matplotlib.pyplot as plt\n",
        "\n",
        "x_label = [\"Model 1\", \"Model 2\", \"Model 3\", \"Model 4\", \"Model 5\"]\n",
        "y_label = [acc1,acc2,acc3,acc4,acc5]\n",
        "plt.bar(x_label, y_label)\n",
        "plt.xlabel('MODEL')\n",
        "plt.ylabel('MODEL ACCURACY')\n",
        "plt.title('CNN MODELS VS ITS ACCURACIES')\n",
        "plt.xticks(x_label)\n",
        "for i, v in enumerate(y_label):\n",
        "    plt.text(i, v + 1, str(v), ha='center', va='bottom')\n",
        "plt.show()"
      ]
    },
    {
      "cell_type": "markdown",
      "id": "9d3c0bfc",
      "metadata": {
        "id": "9d3c0bfc"
      },
      "source": [
        "Thus, MODEL 4 which uses  RELU, GELU, SOFTMAX activation functions and ADAGRAD optimizer gives maximum accuracy of 98%"
      ]
    },
    {
      "cell_type": "code",
      "execution_count": null,
      "id": "30e038d5",
      "metadata": {
        "id": "30e038d5"
      },
      "outputs": [],
      "source": []
    }
  ],
  "metadata": {
    "kernelspec": {
      "display_name": "Python 3 (ipykernel)",
      "language": "python",
      "name": "python3"
    },
    "language_info": {
      "codemirror_mode": {
        "name": "ipython",
        "version": 3
      },
      "file_extension": ".py",
      "mimetype": "text/x-python",
      "name": "python",
      "nbconvert_exporter": "python",
      "pygments_lexer": "ipython3",
      "version": "3.11.5"
    },
    "colab": {
      "provenance": [],
      "include_colab_link": true
    }
  },
  "nbformat": 4,
  "nbformat_minor": 5
}